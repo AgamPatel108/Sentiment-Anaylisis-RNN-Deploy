{
  "nbformat": 4,
  "nbformat_minor": 0,
  "metadata": {
    "colab": {
      "provenance": [],
      "gpuType": "T4"
    },
    "kernelspec": {
      "name": "python3",
      "display_name": "Python 3"
    },
    "language_info": {
      "name": "python"
    },
    "accelerator": "GPU"
  },
  "cells": [
    {
      "cell_type": "code",
      "execution_count": null,
      "metadata": {
        "id": "dxtlasCxGwKn"
      },
      "outputs": [],
      "source": [
        "import numpy as np\n",
        "import tensorflow as tf\n",
        "from tensorflow.keras.datasets import imdb\n",
        "from tensorflow.keras.preprocessing import sequence\n",
        "from tensorflow.keras.models import Sequential\n",
        "from tensorflow.keras.layers import Embedding, SimpleRNN, Dense"
      ]
    },
    {
      "cell_type": "code",
      "source": [
        "\n",
        "word_index = imdb.get_word_index()\n",
        "reversed_word_index = {value:key for key,value in word_index.items()}"
      ],
      "metadata": {
        "id": "MsrAN2DaHCXO"
      },
      "execution_count": null,
      "outputs": []
    },
    {
      "cell_type": "code",
      "source": [
        "from tensorflow.keras.models import load_model\n",
        "smodel = load_model('/content/sentiment_analysis_rnn.h5')"
      ],
      "metadata": {
        "id": "gNsfGHZsHKqG"
      },
      "execution_count": null,
      "outputs": []
    },
    {
      "cell_type": "code",
      "source": [
        "# Helper Functions\n",
        "\n",
        "# Preprocess input\n",
        "\n",
        "def preprocess_text(text):\n",
        "  words = text.lower().split()\n",
        "  encoded_review = [word_index.get(word,2)+3 for word in words]\n",
        "  padded_review = sequence.pad_sequences([encoded_review], maxlen=500)\n",
        "  return padded_review"
      ],
      "metadata": {
        "id": "KPCvouwVHjPt"
      },
      "execution_count": null,
      "outputs": []
    },
    {
      "cell_type": "code",
      "source": [
        "# prediction function\n",
        "\n",
        "def predict_sentiment(review):\n",
        "  padded_review = preprocess_text(review)\n",
        "  prediction = smodel.predict(padded_review)\n",
        "  sentiment = 'Positive' if prediction[0][0] > 0.5 else 'Negative'\n",
        "  return sentiment, prediction[0][0]"
      ],
      "metadata": {
        "id": "zXVawFIGIvIN"
      },
      "execution_count": null,
      "outputs": []
    },
    {
      "cell_type": "code",
      "source": [
        "example = \"The movie was fantastic, i loved it, the plot was well planned and interenting.\"\n",
        "\n",
        "sentiment, score = predict_sentiment(example)\n",
        "print(f\"Review: {example}\")\n",
        "print(f\"Sentiment: {sentiment}\")\n",
        "print(f\"Score: {score}\")"
      ],
      "metadata": {
        "colab": {
          "base_uri": "https://localhost:8080/"
        },
        "id": "jBywB0vKJVtK",
        "outputId": "c86b4b7a-2110-4a1e-f661-01149b30b69c"
      },
      "execution_count": null,
      "outputs": [
        {
          "output_type": "stream",
          "name": "stdout",
          "text": [
            "1/1 [==============================] - 0s 193ms/step\n",
            "Review: The movie was fantastic, i loved it, the plot was well planned and interenting.\n",
            "Sentiment: Positive\n",
            "Score: 0.8118197917938232\n"
          ]
        }
      ]
    },
    {
      "cell_type": "code",
      "source": [],
      "metadata": {
        "id": "-75NBu1rL4m6"
      },
      "execution_count": null,
      "outputs": []
    }
  ]
}